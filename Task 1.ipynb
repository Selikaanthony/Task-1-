{
 "cells": [
  {
   "cell_type": "code",
   "execution_count": 1,
   "id": "b1d07e64-0ca5-4d91-b600-52098e44b165",
   "metadata": {},
   "outputs": [
    {
     "name": "stdout",
     "output_type": "stream",
     "text": [
      "Initial list: [1, 2, 3]\n",
      "After appending 4: [1, 2, 3, 4]\n",
      "After inserting 1.5 at index 1: [1, 1.5, 2, 3, 4]\n",
      "After removing 1.5: [1, 2, 3, 4]\n",
      "After modifying the element at index 1 to 8: [1, 8, 3, 4]\n"
     ]
    }
   ],
   "source": [
    "# Step 1: Create a List\n",
    "my_list = [1, 2, 3]\n",
    "print(\"Initial list:\", my_list)\n",
    "\n",
    "# Step 2: Add Elements\n",
    "# Append an element to the end of the list\n",
    "my_list.append(4)\n",
    "print(\"After appending 4:\", my_list)\n",
    "\n",
    "# Insert an element at a specific position\n",
    "my_list.insert(1, 1.5)\n",
    "print(\"After inserting 1.5 at index 1:\", my_list)\n",
    "\n",
    "# Step 3: Remove Elements\n",
    "# Remove the first occurrence of a value\n",
    "my_list.remove(1.5)\n",
    "print(\"After removing 1.5:\", my_list)\n",
    "\n",
    "# Step 4: Modify Elements\n",
    "# Modify an element at a specific index\n",
    "my_list[1] = 8\n",
    "print(\"After modifying the element at index 1 to 8:\", my_list)\n"
   ]
  },
  {
   "cell_type": "code",
   "execution_count": 2,
   "id": "97d2e874-1281-42c9-9041-225c975b9fa8",
   "metadata": {},
   "outputs": [
    {
     "name": "stdout",
     "output_type": "stream",
     "text": [
      "Initial dictionary: {'name': 'Anthony', 'age': 20, 'city': 'Bangalore'}\n",
      "After adding 'job': {'name': 'Anthony', 'age': 20, 'city': 'Bangalore', 'job': 'Engineer'}\n",
      "After removing 'city': {'name': 'Anthony', 'age': 20, 'job': 'Engineer'}\n",
      "After modifying 'age': {'name': 'Anthony', 'age': 26, 'job': 'Engineer'}\n"
     ]
    }
   ],
   "source": [
    "# Step 1: Create a Dictionary\n",
    "my_dict = {\n",
    "    'name': 'Anthony',\n",
    "    'age': 20,\n",
    "    'city': 'Bangalore'\n",
    "}\n",
    "print(\"Initial dictionary:\", my_dict)\n",
    "\n",
    "# Step 2: Add Key-Value Pairs\n",
    "# Add a new key-value pair\n",
    "my_dict['job'] = 'Engineer'\n",
    "print(\"After adding 'job':\", my_dict)\n",
    "\n",
    "# Step 3: Remove Key-Value Pairs\n",
    "# Remove a key-value pair by key\n",
    "del my_dict['city']\n",
    "print(\"After removing 'city':\", my_dict)\n",
    "\n",
    "# Step 4: Modify Value\n",
    "# Modify the value associated with a key\n",
    "my_dict['age'] = 26\n",
    "print(\"After modifying 'age':\", my_dict)\n"
   ]
  },
  {
   "cell_type": "code",
   "execution_count": 3,
   "id": "87c975bb-84ce-4e97-a574-3c3b98a8cd55",
   "metadata": {},
   "outputs": [
    {
     "name": "stdout",
     "output_type": "stream",
     "text": [
      "Initial tuple: ('apple', 'banana', 'cherry')\n",
      "First element: apple\n",
      "Last element: cherry\n",
      "Combined tuple: ('apple', 'banana', 'cherry', 'date', 'fig')\n",
      "Sliced tuple (first two elements): ('apple', 'banana')\n"
     ]
    }
   ],
   "source": [
    "# Step 1: Create a Tuple\n",
    "my_tuple = ('apple', 'banana', 'cherry')\n",
    "print(\"Initial tuple:\", my_tuple)\n",
    "\n",
    "# Step 2: Access Elements\n",
    "# Access the first element\n",
    "first_element = my_tuple[0]\n",
    "print(\"First element:\", first_element)\n",
    "\n",
    "# Access the last element\n",
    "last_element = my_tuple[-1]\n",
    "print(\"Last element:\", last_element)\n",
    "\n",
    "# Step 3: Concatenate Tuples\n",
    "# Create another tuple\n",
    "another_tuple = ('date', 'fig')\n",
    "# Concatenate tuples\n",
    "combined_tuple = my_tuple + another_tuple\n",
    "print(\"Combined tuple:\", combined_tuple)\n",
    "\n",
    "# Step 4: Slicing\n",
    "# Slice the tuple to get the first two elements\n",
    "sliced_tuple = my_tuple[:2]\n",
    "print(\"Sliced tuple (first two elements):\", sliced_tuple)\n"
   ]
  },
  {
   "cell_type": "code",
   "execution_count": null,
   "id": "5fb45a52-18ca-45a4-8246-2929cd180fdf",
   "metadata": {},
   "outputs": [],
   "source": []
  }
 ],
 "metadata": {
  "kernelspec": {
   "display_name": "Python 3 (ipykernel)",
   "language": "python",
   "name": "python3"
  },
  "language_info": {
   "codemirror_mode": {
    "name": "ipython",
    "version": 3
   },
   "file_extension": ".py",
   "mimetype": "text/x-python",
   "name": "python",
   "nbconvert_exporter": "python",
   "pygments_lexer": "ipython3",
   "version": "3.11.4"
  }
 },
 "nbformat": 4,
 "nbformat_minor": 5
}
